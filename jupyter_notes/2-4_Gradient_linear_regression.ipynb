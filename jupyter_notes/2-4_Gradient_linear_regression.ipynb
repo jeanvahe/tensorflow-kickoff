{
 "cells": [
  {
   "cell_type": "code",
   "execution_count": 1,
   "metadata": {},
   "outputs": [
    {
     "name": "stderr",
     "output_type": "stream",
     "text": [
      "/anaconda3/lib/python3.6/site-packages/h5py/__init__.py:36: FutureWarning: Conversion of the second argument of issubdtype from `float` to `np.floating` is deprecated. In future, it will be treated as `np.float64 == np.dtype(float).type`.\n",
      "  from ._conv import register_converters as _register_converters\n"
     ]
    }
   ],
   "source": [
    "import tensorflow as tf\n",
    "import numpy as np"
   ]
  },
  {
   "cell_type": "code",
   "execution_count": 3,
   "metadata": {},
   "outputs": [
    {
     "name": "stdout",
     "output_type": "stream",
     "text": [
      "0 [0.05376425, 0.10011925]\n",
      "20 [0.10342476, 0.19815364]\n",
      "40 [0.10198936, 0.19892755]\n",
      "60 [0.101155564, 0.19937705]\n",
      "80 [0.10067124, 0.19963814]\n",
      "100 [0.10038989, 0.1997898]\n",
      "120 [0.100226484, 0.1998779]\n",
      "140 [0.10013155, 0.19992909]\n",
      "160 [0.10007642, 0.1999588]\n",
      "180 [0.10004439, 0.19997606]\n",
      "200 [0.10002581, 0.19998609]\n"
     ]
    }
   ],
   "source": [
    "#create 100 ramdon points using numpy\n",
    "x_data = np.random.rand(100)\n",
    "y_data = x_data*0.1 + 0.2\n",
    "\n",
    "#create a linear model\n",
    "b = tf.Variable(0.)\n",
    "k = tf.Variable(0.)\n",
    "y = k*x_data + b\n",
    "\n",
    "#create loss function\n",
    "loss = tf.reduce_mean(tf.square(y_data - y))\n",
    "#define a gradient descent optimizer \n",
    "optimizer = tf.train.GradientDescentOptimizer(0.2)\n",
    "#define a minimum function\n",
    "train = optimizer.minimize(loss)\n",
    "\n",
    "init = tf.global_variables_initializer()\n",
    "\n",
    "with tf.Session() as sess:\n",
    "    sess.run(init)\n",
    "    for step in range(201):\n",
    "        sess.run(train)\n",
    "        if step%20 == 0:\n",
    "            print(step,sess.run([k,b]))\n",
    "    \n"
   ]
  },
  {
   "cell_type": "code",
   "execution_count": null,
   "metadata": {},
   "outputs": [],
   "source": []
  }
 ],
 "metadata": {
  "kernelspec": {
   "display_name": "Python 3",
   "language": "python",
   "name": "python3"
  },
  "language_info": {
   "codemirror_mode": {
    "name": "ipython",
    "version": 3
   },
   "file_extension": ".py",
   "mimetype": "text/x-python",
   "name": "python",
   "nbconvert_exporter": "python",
   "pygments_lexer": "ipython3",
   "version": "3.6.5"
  }
 },
 "nbformat": 4,
 "nbformat_minor": 2
}
