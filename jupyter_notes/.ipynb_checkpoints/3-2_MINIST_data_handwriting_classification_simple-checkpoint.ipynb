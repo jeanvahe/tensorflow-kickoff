{
 "cells": [
  {
   "cell_type": "code",
   "execution_count": 4,
   "metadata": {},
   "outputs": [],
   "source": [
    "import tensorflow as tf\n",
    "from tensorflow.examples.tutorials.mnist import input_data"
   ]
  },
  {
   "cell_type": "code",
   "execution_count": 5,
   "metadata": {
    "scrolled": true
   },
   "outputs": [
    {
     "name": "stdout",
     "output_type": "stream",
     "text": [
      "Extracting MNIST_data\\train-images-idx3-ubyte.gz\n",
      "Extracting MNIST_data\\train-labels-idx1-ubyte.gz\n",
      "Extracting MNIST_data\\t10k-images-idx3-ubyte.gz\n",
      "Extracting MNIST_data\\t10k-labels-idx1-ubyte.gz\n"
     ]
    }
   ],
   "source": [
    "#import data\n",
    "mnist = input_data.read_data_sets(\"MNIST_data\", one_hot=True)"
   ]
  },
  {
   "cell_type": "code",
   "execution_count": 5,
   "metadata": {},
   "outputs": [
    {
     "name": "stdout",
     "output_type": "stream",
     "text": [
      "Iter: 0,Testing Accuracy0.8294\n",
      "Iter: 1,Testing Accuracy0.8696\n",
      "Iter: 2,Testing Accuracy0.8812\n",
      "Iter: 3,Testing Accuracy0.8891\n",
      "Iter: 4,Testing Accuracy0.8935\n",
      "Iter: 5,Testing Accuracy0.8969\n",
      "Iter: 6,Testing Accuracy0.9007\n",
      "Iter: 7,Testing Accuracy0.9022\n",
      "Iter: 8,Testing Accuracy0.9032\n",
      "Iter: 9,Testing Accuracy0.9048\n",
      "Iter: 10,Testing Accuracy0.9062\n",
      "Iter: 11,Testing Accuracy0.9075\n",
      "Iter: 12,Testing Accuracy0.9086\n",
      "Iter: 13,Testing Accuracy0.9094\n",
      "Iter: 14,Testing Accuracy0.9099\n",
      "Iter: 15,Testing Accuracy0.9109\n",
      "Iter: 16,Testing Accuracy0.9114\n",
      "Iter: 17,Testing Accuracy0.9129\n",
      "Iter: 18,Testing Accuracy0.913\n",
      "Iter: 19,Testing Accuracy0.9131\n",
      "Iter: 20,Testing Accuracy0.9137\n"
     ]
    }
   ],
   "source": [
    "#batch size\n",
    "batch_size = 100\n",
    "# num of batch\n",
    "n_batch = mnist.train.num_examples // batch_size\n",
    "\n",
    "#define two placeholder\n",
    "x = tf.placeholder(tf.float32, [None, 784])\n",
    "y = tf.placeholder(tf.float32, [None, 10])\n",
    "\n",
    "#create a simple neuro network\n",
    "W = tf.Variable(tf.zeros([784,10]))\n",
    "b = tf.Variable(tf.zeros([10]))\n",
    "prediction = tf.nn.softmax(tf.matmul(x, W)+b)\n",
    "\n",
    "#quadratic loss function\n",
    "loss = tf.reduce_mean(tf.square(y-prediction))\n",
    "\n",
    "#use gradient descent\n",
    "train_step = tf.train.GradientDescentOptimizer(0.2).minimize(loss)\n",
    "\n",
    "#init variable\n",
    "init = tf.global_variables_initializer()\n",
    "\n",
    "#define accuracy\n",
    "correct_prediction = tf.equal(tf.argmax(y, 1), tf.argmax(prediction,1))\n",
    "accuracy = tf.reduce_mean(tf.cast(correct_prediction, tf.float32))\n",
    "\n",
    "with tf.Session() as sess:\n",
    "    sess.run(init)\n",
    "    for epoch in range(21):\n",
    "        for batch in range(n_batch):\n",
    "            batch_xs,batch_ys = mnist.train.next_batch(batch_size)\n",
    "            sess.run(train_step, feed_dict={x:batch_xs,y:batch_ys})\n",
    "        acc =sess.run(accuracy, feed_dict={x:mnist.test.images, y:mnist.test.labels})\n",
    "        print(\"Iter: \" +str(epoch)+\",Testing Accuracy\"+str(acc))\n"
   ]
  },
  {
   "cell_type": "code",
   "execution_count": 6,
   "metadata": {
    "scrolled": true
   },
   "outputs": [
    {
     "name": "stdout",
     "output_type": "stream",
     "text": [
      "WARNING:tensorflow:From <ipython-input-6-04650e587c92>:17: softmax_cross_entropy_with_logits (from tensorflow.python.ops.nn_ops) is deprecated and will be removed in a future version.\n",
      "Instructions for updating:\n",
      "\n",
      "Future major versions of TensorFlow will allow gradients to flow\n",
      "into the labels input on backprop by default.\n",
      "\n",
      "See @{tf.nn.softmax_cross_entropy_with_logits_v2}.\n",
      "\n",
      "Iter: 0,Testing Accuracy0.8252\n",
      "Iter: 1,Testing Accuracy0.8942\n",
      "Iter: 2,Testing Accuracy0.9028\n",
      "Iter: 3,Testing Accuracy0.9046\n",
      "Iter: 4,Testing Accuracy0.9091\n",
      "Iter: 5,Testing Accuracy0.9102\n",
      "Iter: 6,Testing Accuracy0.912\n",
      "Iter: 7,Testing Accuracy0.9135\n",
      "Iter: 8,Testing Accuracy0.9158\n",
      "Iter: 9,Testing Accuracy0.9163\n",
      "Iter: 10,Testing Accuracy0.9175\n",
      "Iter: 11,Testing Accuracy0.9178\n",
      "Iter: 12,Testing Accuracy0.9198\n",
      "Iter: 13,Testing Accuracy0.92\n",
      "Iter: 14,Testing Accuracy0.9196\n",
      "Iter: 15,Testing Accuracy0.921\n",
      "Iter: 16,Testing Accuracy0.9204\n",
      "Iter: 17,Testing Accuracy0.9216\n",
      "Iter: 18,Testing Accuracy0.9218\n",
      "Iter: 19,Testing Accuracy0.922\n",
      "Iter: 20,Testing Accuracy0.9214\n"
     ]
    }
   ],
   "source": [
    "#batch size\n",
    "batch_size = 100\n",
    "# num of batch\n",
    "n_batch = mnist.train.num_examples // batch_size\n",
    "\n",
    "#define two placeholder\n",
    "x = tf.placeholder(tf.float32, [None, 784])\n",
    "y = tf.placeholder(tf.float32, [None, 10])\n",
    "keep_prob = tf.placeholder(tf.float32)\n",
    "\n",
    "#create a simple neuro network\n",
    "W1 = tf.Variable(tf.truncated_normal([784,2000],stddev=0))\n",
    "b1 = tf.Variable(tf.zeros([2000]+0.1))\n",
    "L1 = tf.nn.tanh(tf.matmul(x, W1)+b1)\n",
    "L1_drop = tf.nn.dropout(L1,keep_prob) \n",
    "\n",
    "W2 = tf.Variable(tf.truncated_normal([2000,2000],stddev=0))\n",
    "b2 = tf.Variable(tf.zeros([2000]+0.1))\n",
    "L2 = tf.nn.tanh(tf.matmul(x, W2)+b2)\n",
    "L2_drop = tf.nn.dropout(L2,keep_prob) \n",
    "\n",
    "W3 = tf.Variable(tf.truncated_normal([2000,1000],stddev=0))\n",
    "b3 = tf.Variable(tf.zeros([1000]+0.1))\n",
    "L3 = tf.nn.tanh(tf.matmul(x, W3)+b3)\n",
    "L3_drop = tf.nn.dropout(L3,keep_prob) \n",
    "\n",
    "W4 = tf.Variable(tf.truncated_normal([1000,10],stddev=0))\n",
    "b4 = tf.Variable(tf.zeros([10]+0.1))\n",
    "prediction = tf.nn.softmax(tf.matmul(L3_drop, W3)+b3)\n",
    "\n",
    "#quadratic loss function\n",
    "#loss = tf.reduce_mean(tf.square(y-prediction))\n",
    "loss = tf.reduce_mean(tf.nn.softmax_cross_entropy_with_logits(labels=y, logits=prediction))\n",
    "\n",
    "#use gradient descent\n",
    "train_step = tf.train.GradientDescentOptimizer(0.2).minimize(loss)\n",
    "\n",
    "#init variable\n",
    "init = tf.global_variables_initializer()\n",
    "\n",
    "#define accuracy\n",
    "correct_prediction = tf.equal(tf.argmax(y, 1), tf.argmax(prediction,1))\n",
    "accuracy = tf.reduce_mean(tf.cast(correct_prediction, tf.float32))\n",
    "\n",
    "with tf.Session() as sess:\n",
    "    sess.run(init)\n",
    "    for epoch in range(31):\n",
    "        for batch in range(n_batch):\n",
    "            batch_xs,batch_ys = mnist.train.next_batch(batch_size)\n",
    "            sess.run(train_step, feed_dict={x:batch_xs,y:batch_ys,keep_prob:1.0})\n",
    "        test_acc =sess.run(accuracy, feed_dict={x:mnist.test.images, y:mnist.test.labels,keep_prob:1.0})\n",
    "        train_acc =sess.run(accuracy, feed_dict={x:mnist.train.images, y:mnist.train.labels,keep_prob:1.0})\n",
    "        print(\"Iter: \" +str(epoch)+\",Testing Accuracy\"+str(test_acc) + \",Training Accuracy \"+ str(train_acc))\n"
   ]
  },
  {
   "cell_type": "code",
   "execution_count": null,
   "metadata": {},
   "outputs": [],
   "source": []
  },
  {
   "cell_type": "code",
   "execution_count": null,
   "metadata": {},
   "outputs": [],
   "source": []
  }
 ],
 "metadata": {
  "kernelspec": {
   "display_name": "Python 3",
   "language": "python",
   "name": "python3"
  },
  "language_info": {
   "codemirror_mode": {
    "name": "ipython",
    "version": 3
   },
   "file_extension": ".py",
   "mimetype": "text/x-python",
   "name": "python",
   "nbconvert_exporter": "python",
   "pygments_lexer": "ipython3",
   "version": "3.5.5"
  }
 },
 "nbformat": 4,
 "nbformat_minor": 2
}
